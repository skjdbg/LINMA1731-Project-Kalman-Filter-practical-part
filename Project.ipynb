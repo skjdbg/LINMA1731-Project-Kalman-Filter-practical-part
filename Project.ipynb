{
 "metadata": {
  "language_info": {
   "codemirror_mode": {
    "name": "ipython",
    "version": 3
   },
   "file_extension": ".py",
   "mimetype": "text/x-python",
   "name": "python",
   "nbconvert_exporter": "python",
   "pygments_lexer": "ipython3",
   "version": "3.8.5"
  },
  "orig_nbformat": 2,
  "kernelspec": {
   "name": "python385jvsc74a57bd0b3ba2566441a7c06988d0923437866b63cedc61552a5af99d1f4fb67d367b25f",
   "display_name": "Python 3.8.5 64-bit ('base': conda)"
  }
 },
 "nbformat": 4,
 "nbformat_minor": 2,
 "cells": [
  {
   "cell_type": "code",
   "execution_count": 10,
   "metadata": {},
   "outputs": [
    {
     "output_type": "stream",
     "name": "stdout",
     "text": [
      "[[0.9512 0.    ]\n [0.0476 0.9512]]\n[[1]\n [2]]\n[[0 1]]\n[[0]\n [0]]\n[[0.009506 0.000234]\n [0.000234 0.009512]]\n"
     ]
    }
   ],
   "source": [
    "import numpy as np\n",
    "\n"
   ]
  },
  {
   "source": [
    "# PART 1.1 KF for linear double tank system"
   ],
   "cell_type": "markdown",
   "metadata": {}
  },
  {
   "cell_type": "code",
   "execution_count": null,
   "metadata": {},
   "outputs": [],
   "source": [
    "A = np.array([[0.9512, 0],\n",
    "              [0.0476, 0.9512]], ndmin = 2)\n",
    "B = np.array([[1], [2]], ndmin = 2)\n",
    "C = np.array([0, 1], ndmin = 2)\n",
    "\n",
    "mean_w = np.array([[0], [0]], ndmin = 2)\n",
    "variance_w = 1e-3 * np.array([[9.506, 0.234],\n",
    "                              [0.234, 9.512]], ndmin = 2)\n",
    "mean_v = 0\n",
    "variance_v = 0.0125\n",
    "\n",
    "h = 0.1 # sampling period in second\n",
    "\n",
    "mean_x0 = np.array([[5], [5]], ndmin = 2)\n",
    "variance_x0 = np.array([[1, 0],\n",
    "                        [0, 1]], ndmin = 2)\n",
    "\n",
    "print(A)\n",
    "print(B)\n",
    "print(C)\n",
    "print(mean_w)\n",
    "print(variance_w)"
   ]
  },
  {
   "source": [
    "# Part 1.2 EnKF for linear double tank system"
   ],
   "cell_type": "markdown",
   "metadata": {}
  },
  {
   "cell_type": "code",
   "execution_count": null,
   "metadata": {},
   "outputs": [],
   "source": []
  },
  {
   "source": [
    "# Part 2 EnKF for linear double tank system"
   ],
   "cell_type": "markdown",
   "metadata": {}
  },
  {
   "cell_type": "code",
   "execution_count": null,
   "metadata": {},
   "outputs": [],
   "source": []
  }
 ]
}