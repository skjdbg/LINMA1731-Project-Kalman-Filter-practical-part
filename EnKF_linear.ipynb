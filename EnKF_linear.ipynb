{
 "metadata": {
  "language_info": {
   "codemirror_mode": {
    "name": "ipython",
    "version": 3
   },
   "file_extension": ".py",
   "mimetype": "text/x-python",
   "name": "python",
   "nbconvert_exporter": "python",
   "pygments_lexer": "ipython3",
   "version": "3.8.5"
  },
  "orig_nbformat": 2,
  "kernelspec": {
   "name": "python385jvsc74a57bd0b3ba2566441a7c06988d0923437866b63cedc61552a5af99d1f4fb67d367b25f",
   "display_name": "Python 3.8.5 64-bit ('base': conda)"
  }
 },
 "nbformat": 4,
 "nbformat_minor": 2,
 "cells": [
  {
   "cell_type": "code",
   "execution_count": 3,
   "metadata": {},
   "outputs": [],
   "source": [
    "import numpy as np\n",
    "A = np.array([[0.9512, 0],\n",
    "              [0.0476, 0.9512]], ndmin = 2)\n",
    "B = np.array([[1], [2]], ndmin = 2)\n",
    "C = np.array([0, 1], ndmin = 2)\n",
    "\n",
    "mean_w = np.array([[0], [0]], ndmin = 2)\n",
    "variance_w = 1e-3 * np.array([[9.506, 0.234],\n",
    "                              [0.234, 9.512]], ndmin = 2)\n",
    "mean_v = 0\n",
    "variance_v = 0.0125\n",
    "\n",
    "h = 0.1 # sampling period in second\n",
    "\n",
    "mean_x0 = np.array([[5], [5]], ndmin = 2)\n",
    "variance_x0 = np.array([[1, 0],\n",
    "                        [0, 1]], ndmin = 2)\n",
    "\n",
    "u = np.loadtxt(\"./Data_linear_case/input_linear_case.txt\", skiprows = 1, usecols = 0)\n",
    "y = np.loadtxt(\"./Data_linear_case/Measured_output_linear_case.txt\", skiprows = 1, usecols = 0)\n",
    "true_x1 = np.loadtxt(\"./Data_linear_case/True_state_x1_linear_case.txt\", skiprows = 1, usecols = 0)\n",
    "true_x2 = np.loadtxt(\"./Data_linear_case/True_state_x2_linear_case.txt\", skiprows = 1, usecols = 0)\n",
    "\n",
    "assert len(u) == len(y) == len(true_x1) == len(true_x2)\n",
    "\n",
    "number_step_max = len(u)"
   ]
  },
  {
   "cell_type": "code",
   "execution_count": null,
   "metadata": {},
   "outputs": [],
   "source": [
    "def forecast_step(A, ens_x_k_1, B, u_k, Q):\n",
    "    wk = np.random.multivariate_normal(())"
   ]
  }
 ]
}