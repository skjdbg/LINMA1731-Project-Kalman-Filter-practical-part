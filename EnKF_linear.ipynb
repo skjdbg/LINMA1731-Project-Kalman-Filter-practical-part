{
 "metadata": {
  "language_info": {
   "codemirror_mode": {
    "name": "ipython",
    "version": 3
   },
   "file_extension": ".py",
   "mimetype": "text/x-python",
   "name": "python",
   "nbconvert_exporter": "python",
   "pygments_lexer": "ipython3",
   "version": 3
  },
  "orig_nbformat": 2
 },
 "nbformat": 4,
 "nbformat_minor": 2,
 "cells": [
  {
   "cell_type": "code",
   "execution_count": null,
   "metadata": {},
   "outputs": [],
   "source": [
    "import numpy as np\n",
    "A = np.array([[0.9512, 0],\n",
    "              [0.0476, 0.9512]], ndmin = 2)\n",
    "B = np.array([[1], [2]], ndmin = 2)\n",
    "C = np.array([0, 1], ndmin = 2)\n",
    "\n",
    "mean_w = np.array([[0], [0]], ndmin = 2)\n",
    "variance_w = 1e-3 * np.array([[9.506, 0.234],\n",
    "                              [0.234, 9.512]], ndmin = 2)\n",
    "mean_v = 0\n",
    "variance_v = 0.0125\n",
    "\n",
    "h = 0.1 # sampling period in second\n",
    "\n",
    "mean_x0 = np.array([[5], [5]], ndmin = 2)\n",
    "variance_x0 = np.array([[1, 0],\n",
    "                        [0, 1]], ndmin = 2)\n",
    "\n",
    "print(A)\n",
    "print(B)\n",
    "print(C)\n",
    "print(mean_w)\n",
    "print(variance_w)"
   ]
  }
 ]
}