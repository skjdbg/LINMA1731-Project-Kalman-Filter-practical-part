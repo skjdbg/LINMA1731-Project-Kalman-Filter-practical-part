{
 "cells": [
  {
   "cell_type": "code",
   "execution_count": 67,
   "metadata": {},
   "outputs": [],
   "source": [
    "import numpy as np\n",
    "import pandas as pd\n",
    "import matplotlib.pyplot as plt\n",
    "\n",
    "A = np.array([[0.9512, 0],\n",
    "              [0.0476, 0.9512]], ndmin = 2)\n",
    "B = np.array([[0.0975], [0.0024]], ndmin = 2)\n",
    "C = np.array([0, 1], ndmin = 2)\n",
    "\n",
    "mean_w = np.array([0, 0])\n",
    "Q = 1e-3 * np.array([[9.506, 0.234],\n",
    "                     [0.234, 9.512]], ndmin = 2)\n",
    "mean_v = 0\n",
    "R = 0.0125\n",
    "\n",
    "mu_0 = np.array([5, 5])\n",
    "P_0 = np.array([[1, 0],\n",
    "                [0, 1]], ndmin = 2)\n",
    "\n",
    "u = np.loadtxt(\"./Data_linear_case/input_linear_case.txt\", skiprows = 1, usecols = 0)\n",
    "y = np.loadtxt(\"./Data_linear_case/Measured_output_linear_case.txt\", skiprows = 1, usecols = 0)\n",
    "true_x1 = np.loadtxt(\"./Data_linear_case/True_state_x1_linear_case.txt\", skiprows = 1, usecols = 0)\n",
    "true_x2 = np.loadtxt(\"./Data_linear_case/True_state_x2_linear_case.txt\", skiprows = 1, usecols = 0)\n",
    "\n",
    "assert len(u) == len(y) == len(true_x1) == len(true_x2)\n",
    "\n",
    "number_step_max = len(u)\n",
    "\n",
    "h = 0.1 # sampling period in second\n",
    "time = np.arange(len(true_x1)) * h #time in seconds\n"
   ]
  },
  {
   "cell_type": "code",
   "execution_count": 68,
   "metadata": {},
   "outputs": [],
   "source": [
    "def f_x(x,u):\n",
    "    \n",
    "    lol = np.array([[-np.sqrt(x[:, 0, 0]) + u], [np.sqrt(x[:, 0, 0]) - np.sqrt(x[:, 1, 0])]], ndmin=2)\n",
    "    lol = np.transpose(lol, (2, 0, 1))\n",
    "    return lol\n",
    "    \n"
   ]
  },
  {
   "cell_type": "code",
   "execution_count": 69,
   "metadata": {},
   "outputs": [],
   "source": [
    "def forecast_step(h, ens_x_k_1, B, u_k, mean_w, Q):\n",
    "    ensemble_size = len(ens_x_k_1)\n",
    "    wk = np.random.multivariate_normal(mean_w, Q, size = ensemble_size)\n",
    "    wk = np.reshape(wk, (ensemble_size, 2, 1))\n",
    "    f1 = f_x(ens_x_k_1, u_k)\n",
    "    f2 = f_x(ens_x_k_1 + h * f1 / 2, u_k)\n",
    "    f3 = f_x(ens_x_k_1 + h * f2 / 2, u_k)\n",
    "    f4 = f_x(ens_x_k_1 + h * f3, u_k)\n",
    "    ens_x_tilde_k = ens_x_k_1 + h / 6 * (f1 + 2 * f2 + 2 * f3 + f4) + wk\n",
    "    return ens_x_tilde_k\n",
    "\n",
    "def make_observations_step(C, ens_x_tilde_k, mean_v, R):\n",
    "    ensemble_size = len(ens_x_tilde_k)\n",
    "    vk = np.random.normal(mean_v, R, size = ensemble_size)\n",
    "    vk = np.reshape(vk, (ensemble_size, 1, 1))\n",
    "    ens_y_tilde_k = C@ens_x_tilde_k + vk\n",
    "    return ens_y_tilde_k\n",
    "\n",
    "def update_step(C, ens_x_tilde_k, R, yk, ens_y_tilde_k):\n",
    "    P_tilde_hat_k = np.cov(np.squeeze(ens_x_tilde_k), rowvar = False)\n",
    "    K_tilde_k = P_tilde_hat_k@C.T@np.linalg.inv(C@P_tilde_hat_k@C.T + R)\n",
    "    ens_x_hat_k = ens_x_tilde_k + K_tilde_k@(yk - ens_y_tilde_k)\n",
    "    return ens_x_hat_k"
   ]
  },
  {
   "cell_type": "code",
   "execution_count": 70,
   "metadata": {
    "tags": []
   },
   "outputs": [],
   "source": [
    "mu = pd.DataFrame(columns = [\"mu_x1\", \"mu_x2\"])\n",
    "P = pd.DataFrame(columns = [\"x1x1\", \"x1x2\", \"x2x1\", \"x2x2\"])\n",
    "\n",
    "ensemble_size = 10\n",
    "ens_x_hat_k_1 = np.random.multivariate_normal(mu_0, P_0, size = ensemble_size)\n",
    "ens_x_hat_k_1 = np.reshape(ens_x_hat_k_1, (ensemble_size, 2, 1))\n",
    "#print(ens_x_hat_k_1.shape)\n",
    "\n",
    "for i in range(number_step_max):\n",
    "    ens_x_tilde_k = forecast_step(h, ens_x_hat_k_1, B, u[i], mean_w, Q)\n",
    "    ens_y_tilde_k = make_observations_step(C, ens_x_tilde_k, mean_v, R)\n",
    "    ens_x_hat_k_1 = update_step(C, ens_x_tilde_k, R, y[i], ens_y_tilde_k)\n",
    "    mu.loc[i] = np.mean(ens_x_hat_k_1, axis = 0).flatten().tolist()\n",
    "    P.loc[i] = np.cov(np.squeeze(ens_x_hat_k_1), rowvar = False).flatten().tolist()\n"
   ]
  },
  {
   "cell_type": "code",
   "execution_count": null,
   "metadata": {},
   "outputs": [],
   "source": []
  }
 ],
 "metadata": {
  "kernelspec": {
   "name": "python385jvsc74a57bd08fac594bfae6525c0c41b4041d2d72effa188cc8ead05f81b1fab2bb098927fb",
   "display_name": "Python 3.8.5 64-bit (conda)"
  },
  "language_info": {
   "codemirror_mode": {
    "name": "ipython",
    "version": 3
   },
   "file_extension": ".py",
   "mimetype": "text/x-python",
   "name": "python",
   "nbconvert_exporter": "python",
   "pygments_lexer": "ipython3",
   "version": "3.8.5"
  }
 },
 "nbformat": 4,
 "nbformat_minor": 2
}