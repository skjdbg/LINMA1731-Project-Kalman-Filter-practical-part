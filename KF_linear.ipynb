{
 "metadata": {
  "language_info": {
   "codemirror_mode": {
    "name": "ipython",
    "version": 3
   },
   "file_extension": ".py",
   "mimetype": "text/x-python",
   "name": "python",
   "nbconvert_exporter": "python",
   "pygments_lexer": "ipython3",
   "version": "3.7.6"
  },
  "orig_nbformat": 2,
  "kernelspec": {
   "name": "python376jvsc74a57bd08fac594bfae6525c0c41b4041d2d72effa188cc8ead05f81b1fab2bb098927fb",
   "display_name": "Python 3.7.6 64-bit (conda)"
  }
 },
 "nbformat": 4,
 "nbformat_minor": 2,
 "cells": [
  {
   "cell_type": "code",
   "execution_count": 1,
   "metadata": {},
   "outputs": [
    {
     "output_type": "stream",
     "name": "stdout",
     "text": [
      "[[0.9512 0.    ]\n [0.0476 0.9512]]\n[[1]\n [2]]\n[[0 1]]\n[[0]\n [0]]\n[[0.009506 0.000234]\n [0.000234 0.009512]]\n"
     ]
    }
   ],
   "source": [
    "import numpy as np\n",
    "A = np.array([[0.9512, 0],\n",
    "              [0.0476, 0.9512]], ndmin = 2)\n",
    "B = np.array([[1], [2]], ndmin = 2)\n",
    "C = np.array([0, 1], ndmin = 2)\n",
    "\n",
    "mean_w = np.array([[0], [0]], ndmin = 2)\n",
    "Q = 1e-3 * np.array([[9.506, 0.234],\n",
    "                              [0.234, 9.512]], ndmin = 2)\n",
    "mean_v = 0\n",
    "R = 0.0125\n",
    "\n",
    "h = 0.1 # sampling period in second\n",
    "\n",
    "mu_0 = np.array([[5], [5]], ndmin = 2)\n",
    "P_0 = np.array([[1, 0],\n",
    "                        [0, 1]], ndmin = 2)\n",
    "\n",
    "print(A)\n",
    "print(B)\n",
    "print(C)\n",
    "print(mean_w)\n",
    "print(variance_w)\n",
    "\n",
    "u = np.loadtxt(\"./Data_linear_case/input_linear_case.txt\", skiprows = 1, usecols = 0)\n",
    "y = np.loadtxt(\"./Data_linear_case/Measured_output_linear_case.txt\", skiprows = 1, usecols = 0)\n",
    "true_x1 = np.loadtxt(\"./Data_linear_case/True_state_x1_linear_case.txt\", skiprows = 1, usecols = 0)\n",
    "true_x2 = np.loadtxt(\"./Data_linear_case/True_state_x2_linear_case.txt\", skiprows = 1, usecols = 0)\n",
    "\n",
    "assert len(u) == len(y) == len(true_x1) == len(true_x2)\n",
    "\n",
    "number_step_max = len(u)"
   ]
  },
  {
   "source": [
    "# Forecast step"
   ],
   "cell_type": "markdown",
   "metadata": {}
  },
  {
   "cell_type": "code",
   "execution_count": null,
   "metadata": {},
   "outputs": [],
   "source": [
    "for i in range(its_something):\n",
    "    mu_tilde[i] = A@mu_tilde[i-1] + B@u[i]\n",
    "    p_tilde_k = A@P[i]@A.T + Q"
   ]
  },
  {
   "source": [
    "# Update step"
   ],
   "cell_type": "markdown",
   "metadata": {}
  },
  {
   "cell_type": "code",
   "execution_count": null,
   "metadata": {},
   "outputs": [],
   "source": []
  }
 ]
}